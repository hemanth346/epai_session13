{
 "cells": [
  {
   "cell_type": "code",
   "execution_count": 1,
   "id": "b9b437c3",
   "metadata": {
    "ExecuteTime": {
     "end_time": "2021-08-07T18:23:00.272242Z",
     "start_time": "2021-08-07T18:23:00.252976Z"
    }
   },
   "outputs": [],
   "source": [
    "file_name = 'nyc_parking_tickets_extract-1.csv'"
   ]
  },
  {
   "cell_type": "code",
   "execution_count": 2,
   "id": "21ca7aeb",
   "metadata": {
    "ExecuteTime": {
     "end_time": "2021-08-07T18:23:00.287945Z",
     "start_time": "2021-08-07T18:23:00.276275Z"
    }
   },
   "outputs": [],
   "source": [
    "import csv\n",
    "from collections import namedtuple, Counter\n",
    "from datetime import datetime"
   ]
  },
  {
   "cell_type": "markdown",
   "id": "82f3bc55",
   "metadata": {},
   "source": [
    "## Goal 1\n",
    "\n",
    "Create a lazy iterator that will return a named tuple of the data in each row. The data types should be appropriate - i.e. if the column is a date, you should be storing dates in the named tuple, if the field is an integer, then it should be stored as an integer, etc.\n"
   ]
  },
  {
   "cell_type": "code",
   "execution_count": 3,
   "id": "0517542a",
   "metadata": {
    "ExecuteTime": {
     "end_time": "2021-08-07T18:23:00.649671Z",
     "start_time": "2021-08-07T18:23:00.639444Z"
    }
   },
   "outputs": [],
   "source": [
    "def cast(data_type, value):\n",
    "    if data_type == 'INT':\n",
    "        return int(value)\n",
    "    elif data_type =='DATE':\n",
    "        return datetime.strptime(value,'%m/%d/%Y').date()\n",
    "    else:\n",
    "        return str(value)\n",
    "    \n",
    "def cast_row(data_types, data_row):\n",
    "    return [cast(data_type, value) \n",
    "            for data_type, value in zip(data_types, data_row)]"
   ]
  },
  {
   "cell_type": "code",
   "execution_count": 4,
   "id": "9bbc365d",
   "metadata": {
    "ExecuteTime": {
     "end_time": "2021-08-07T18:23:00.849418Z",
     "start_time": "2021-08-07T18:23:00.842108Z"
    }
   },
   "outputs": [],
   "source": [
    "\n",
    "def get_ticket_details():\n",
    "    with open(file_name, mode='r') as csv_file:\n",
    "        csv_reader = csv.reader(csv_file)\n",
    "        \n",
    "        fieldnames = [fieldname.strip().replace(\" \",\"_\") for fieldname in next(csv_reader)]\n",
    "        ticket_record_types = ['INT', 'STRING', 'STRING', 'STRING', 'DATE', 'INT', 'STRING', 'STRING', 'STRING']\n",
    "        \n",
    "        Ticket = namedtuple('Ticket', fieldnames)\n",
    "        for row in csv_reader:\n",
    "            yield Ticket(*cast_row(ticket_record_types, row))\n"
   ]
  },
  {
   "cell_type": "code",
   "execution_count": 5,
   "id": "3aa5167a",
   "metadata": {
    "ExecuteTime": {
     "end_time": "2021-08-07T18:23:01.124630Z",
     "start_time": "2021-08-07T18:23:01.113651Z"
    }
   },
   "outputs": [
    {
     "name": "stdout",
     "output_type": "stream",
     "text": [
      "Ticket(Summons_Number=4006478550, Plate_ID='VAD7274', Registration_State='VA', Plate_Type='PAS', Issue_Date=datetime.date(2016, 10, 5), Violation_Code=5, Vehicle_Body_Type='4D', Vehicle_Make='BMW', Violation_Description='BUS LANE VIOLATION')\n",
      " -\n",
      "Ticket(Summons_Number=4006462396, Plate_ID='22834JK', Registration_State='NY', Plate_Type='COM', Issue_Date=datetime.date(2016, 9, 30), Violation_Code=5, Vehicle_Body_Type='VAN', Vehicle_Make='CHEVR', Violation_Description='BUS LANE VIOLATION')\n",
      " -\n",
      "Ticket(Summons_Number=4007117810, Plate_ID='21791MG', Registration_State='NY', Plate_Type='COM', Issue_Date=datetime.date(2017, 4, 10), Violation_Code=5, Vehicle_Body_Type='VAN', Vehicle_Make='DODGE', Violation_Description='BUS LANE VIOLATION')\n",
      " -\n"
     ]
    }
   ],
   "source": [
    "limit = 3\n",
    "count = 0\n",
    "\n",
    "for ticket in get_ticket_details():\n",
    "    print(ticket)\n",
    "    print(' -')\n",
    "    count += 1\n",
    "    if count >= limit:\n",
    "        break"
   ]
  },
  {
   "cell_type": "code",
   "execution_count": null,
   "id": "6aecd281",
   "metadata": {
    "ExecuteTime": {
     "end_time": "2021-08-07T18:17:22.848551Z",
     "start_time": "2021-08-07T18:17:22.830172Z"
    }
   },
   "outputs": [],
   "source": []
  },
  {
   "cell_type": "markdown",
   "id": "766e1844",
   "metadata": {},
   "source": [
    "## Goal 2\n",
    "\n",
    "Calculate the number of violations by car make\n"
   ]
  },
  {
   "cell_type": "code",
   "execution_count": 6,
   "id": "715b8e65",
   "metadata": {
    "ExecuteTime": {
     "end_time": "2021-08-07T18:23:02.586296Z",
     "start_time": "2021-08-07T18:23:02.536460Z"
    }
   },
   "outputs": [],
   "source": [
    "voilations_counter = Counter()\n",
    "for ticket in get_ticket_details():\n",
    "    voilations_counter[ticket.Vehicle_Make] += 1"
   ]
  },
  {
   "cell_type": "code",
   "execution_count": 7,
   "id": "8fcdd662",
   "metadata": {
    "ExecuteTime": {
     "end_time": "2021-08-07T18:23:03.243249Z",
     "start_time": "2021-08-07T18:23:03.221727Z"
    }
   },
   "outputs": [
    {
     "data": {
      "text/plain": [
       "Counter({'BMW': 34,\n",
       "         'CHEVR': 76,\n",
       "         'DODGE': 45,\n",
       "         'FORD': 104,\n",
       "         'FRUEH': 44,\n",
       "         'HONDA': 106,\n",
       "         'LINCO': 12,\n",
       "         'TOYOT': 112,\n",
       "         'CADIL': 9,\n",
       "         'CHRYS': 12,\n",
       "         'FIR': 1,\n",
       "         'GMC': 35,\n",
       "         'HYUND': 35,\n",
       "         'JAGUA': 3,\n",
       "         'JEEP': 22,\n",
       "         'LEXUS': 26,\n",
       "         'ME/BE': 38,\n",
       "         'MERCU': 4,\n",
       "         'MITSU': 11,\n",
       "         'NISSA': 70,\n",
       "         'HIN': 6,\n",
       "         'NS/OT': 18,\n",
       "         'WORKH': 2,\n",
       "         'ACURA': 12,\n",
       "         'AUDI': 12,\n",
       "         'INTER': 25,\n",
       "         'ISUZU': 10,\n",
       "         'KENWO': 5,\n",
       "         'KIA': 8,\n",
       "         'OLDSM': 1,\n",
       "         'SUBAR': 18,\n",
       "         'VOLVO': 12,\n",
       "         'SATUR': 2,\n",
       "         'SMART': 3,\n",
       "         'INFIN': 13,\n",
       "         'PETER': 1,\n",
       "         '': 5,\n",
       "         'CITRO': 1,\n",
       "         'ROVER': 5,\n",
       "         'BUICK': 5,\n",
       "         'GEO': 1,\n",
       "         'MAZDA': 5,\n",
       "         'PORSC': 3,\n",
       "         'VOLKS': 8,\n",
       "         'YAMAH': 1,\n",
       "         'BSA': 1,\n",
       "         'MINI': 1,\n",
       "         'PONTI': 1,\n",
       "         'SPRI': 1,\n",
       "         'PLYMO': 1,\n",
       "         'SCION': 2,\n",
       "         'UPS': 1,\n",
       "         'FIAT': 1,\n",
       "         'UD': 1,\n",
       "         'UTILI': 1,\n",
       "         'GMCQ': 1,\n",
       "         'SAAB': 2,\n",
       "         'HINO': 2,\n",
       "         'STAR': 1,\n",
       "         'AM/T': 1,\n",
       "         'MI/F': 1})"
      ]
     },
     "execution_count": 7,
     "metadata": {},
     "output_type": "execute_result"
    }
   ],
   "source": [
    "voilations_counter"
   ]
  },
  {
   "cell_type": "code",
   "execution_count": null,
   "id": "f10db307",
   "metadata": {},
   "outputs": [],
   "source": []
  },
  {
   "cell_type": "code",
   "execution_count": null,
   "id": "6dea7cf6",
   "metadata": {},
   "outputs": [],
   "source": []
  }
 ],
 "metadata": {
  "kernelspec": {
   "display_name": "Python 3",
   "language": "python",
   "name": "python3"
  },
  "language_info": {
   "codemirror_mode": {
    "name": "ipython",
    "version": 3
   },
   "file_extension": ".py",
   "mimetype": "text/x-python",
   "name": "python",
   "nbconvert_exporter": "python",
   "pygments_lexer": "ipython3",
   "version": "3.9.1"
  },
  "varInspector": {
   "cols": {
    "lenName": 16,
    "lenType": 16,
    "lenVar": 40
   },
   "kernels_config": {
    "python": {
     "delete_cmd_postfix": "",
     "delete_cmd_prefix": "del ",
     "library": "var_list.py",
     "varRefreshCmd": "print(var_dic_list())"
    },
    "r": {
     "delete_cmd_postfix": ") ",
     "delete_cmd_prefix": "rm(",
     "library": "var_list.r",
     "varRefreshCmd": "cat(var_dic_list()) "
    }
   },
   "types_to_exclude": [
    "module",
    "function",
    "builtin_function_or_method",
    "instance",
    "_Feature"
   ],
   "window_display": false
  }
 },
 "nbformat": 4,
 "nbformat_minor": 5
}
